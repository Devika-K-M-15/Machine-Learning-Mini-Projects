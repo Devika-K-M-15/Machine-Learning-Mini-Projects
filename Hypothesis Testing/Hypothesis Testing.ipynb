{
 "cells": [
  {
   "cell_type": "code",
   "execution_count": 15,
   "id": "25b91c1e-cea7-46c7-b238-f1105e21aaf6",
   "metadata": {},
   "outputs": [],
   "source": [
    "import numpy as np"
   ]
  },
  {
   "cell_type": "markdown",
   "id": "9c79f2dc-3710-4ca6-b660-c64f303b1222",
   "metadata": {},
   "source": [
    "# Hypothesis Testing"
   ]
  },
  {
   "cell_type": "markdown",
   "id": "fd6790d7-c730-453a-b083-a8a60d50fccf",
   "metadata": {},
   "source": [
    "##### Parameters of Hypothesis Testing\n",
    "* Null hypothesis (Ho)\n",
    "\n",
    "* Alternative hypothesis (Ha)\n",
    "\n",
    "* Level of significance (α)\n"
   ]
  },
  {
   "cell_type": "markdown",
   "id": "04432c5c-c27b-4183-946f-94e53c74b881",
   "metadata": {},
   "source": [
    "##### Steps in Hypothesis Testing"
   ]
  },
  {
   "cell_type": "markdown",
   "id": "d3ecd5f0-74c8-4754-b200-a6de64069246",
   "metadata": {},
   "source": [
    "Step 1 : State the Null Hypothesis (Ho)   \n",
    "Step 2 : State the Alternative Hypothesis (Ha)  \n",
    "Step 3 : Set Level of significance (α)  \n",
    "Step 4 : Select proper Test and Calculate test statistic  \n",
    "Step 5 : draw a conclusion about Ho  "
   ]
  },
  {
   "cell_type": "markdown",
   "id": "e6632387-1686-46e5-b5b5-a2a61d5e23a4",
   "metadata": {},
   "source": [
    "### Problem Statement"
   ]
  },
  {
   "cell_type": "markdown",
   "id": "0f0714d2-f707-4dc0-af82-d4cfd41e154e",
   "metadata": {},
   "source": [
    "Suppose a child psychologist says that the average time that working mothers spend talking to their children is at-least 11 minutes per day.\n",
    "You want to test.\n",
    "You conduct a random sample of 1000 working mothers and find they spend an average of 11.5 minutes per day talking with their children.\n",
    "Assume prior research suggests the population standard deviation is 2.3 minutes.\n",
    "Conduct test with a level of significance of alpha=0.05"
   ]
  },
  {
   "cell_type": "markdown",
   "id": "ea4fe43e-8300-4bf1-8d9b-70254d99dcc0",
   "metadata": {},
   "source": [
    "Step 1  \n",
    "Ho = The average time that working mothers spend talking to their children is less than 11 minutes per day\n",
    "Step 2  \n",
    "Ha = The average time that working mothers spend talking to their children is at-least 11 minutes per day  \n",
    "Step 3  \n",
    "Significant level (α) = 0.05  "
   ]
  },
  {
   "cell_type": "code",
   "execution_count": 16,
   "id": "dc0ceaca-79a3-4ee0-80f8-dcc8b4281990",
   "metadata": {},
   "outputs": [
    {
     "data": {
      "text/plain": [
       "6.874516652539955"
      ]
     },
     "execution_count": 16,
     "metadata": {},
     "output_type": "execute_result"
    }
   ],
   "source": [
    "# Step 4 (z test) \n",
    "# z = (sample_mean - population_mean) / (population_std / (sqrt(no. of samples)))\n",
    "z = (11.5 - 11)/ (2.3 / (np.sqrt(1000)))\n",
    "z"
   ]
  },
  {
   "cell_type": "markdown",
   "id": "dc702a08-3e15-4798-a6bc-0144a7abc8ce",
   "metadata": {},
   "source": [
    "Step 5  "
   ]
  },
  {
   "cell_type": "markdown",
   "id": "0aa14c1d-7bf9-438c-a6b2-6b3e3c2b3538",
   "metadata": {},
   "source": [
    "critical value using z table is -1.645  \n",
    "z value is greater than critical value,  \n",
    "hence we can reject our null hypothesis.  \n",
    "The average time that working mothers spend talking to their children is at-least 11 minutes per day."
   ]
  },
  {
   "cell_type": "markdown",
   "id": "86bc59d8-54c4-4735-9bfc-54a5ed75c86a",
   "metadata": {},
   "source": [
    "##### Null Hypothesis is rejected"
   ]
  },
  {
   "cell_type": "markdown",
   "id": "45881497-f198-446c-8e45-b84f2823d730",
   "metadata": {},
   "source": [
    "### Problem Statement"
   ]
  },
  {
   "cell_type": "markdown",
   "id": "ac5cc565-e893-4f65-b66f-4904dc52f954",
   "metadata": {},
   "source": [
    "A coffee shop claims that their average wait time for customers is less than 5 minutes.\n",
    "To test this claim, a sample of 40 customers is taken, and their wait times are recorded.\n",
    "The sample mean wait time is found to be 4.6 minutes with a standard deviation of 0.8 minutes.\n",
    "Perform a hypothesis test at a significance level of 0.05 and determine whether there is enough evidence to support the coffee shop's claim.\n",
    "Perform the hypothesis testing using correct test statistics and appropriate critical value"
   ]
  },
  {
   "cell_type": "markdown",
   "id": "8c9b5cc0-d4f2-4dbe-b758-8f297d3789b2",
   "metadata": {},
   "source": [
    "Step 1  \n",
    "Ho = The average wait time for customers is less than 5 minutes   \n",
    "Step 2  \n",
    "Ha = The average wait time for customers is greater than 5 minutes  \n",
    "Step 3  \n",
    "Significant level (α) = 0.05  "
   ]
  },
  {
   "cell_type": "code",
   "execution_count": 17,
   "id": "9e50a803-d586-4d2a-9378-41a91b537290",
   "metadata": {},
   "outputs": [
    {
     "data": {
      "text/plain": [
       "-3.162277660168382"
      ]
     },
     "execution_count": 17,
     "metadata": {},
     "output_type": "execute_result"
    }
   ],
   "source": [
    "# Step 4 (t test - one tail)\n",
    "# t = (sample_mean - population_mean) / (sample_std / (sqrt(no. of samples)))\n",
    "t = (4.6 - 5)/ (0.8/(np.sqrt(40)))\n",
    "t"
   ]
  },
  {
   "cell_type": "markdown",
   "id": "138b0b20-bc35-4bba-af18-f4cf6695e9dd",
   "metadata": {},
   "source": [
    "Step 5  "
   ]
  },
  {
   "cell_type": "markdown",
   "id": "934f8ed2-18eb-49d1-818d-3d6350cb4421",
   "metadata": {},
   "source": [
    "critical value using t table is 1.684.  \n",
    "t value is less than critical value,  \n",
    "hence we can accept our null hypothesis.  \n",
    "The average wait time for customers is less than 5 minutes.  "
   ]
  },
  {
   "cell_type": "markdown",
   "id": "1d817785-207d-4652-aa69-98f23240fee2",
   "metadata": {},
   "source": [
    "##### Null Hypothesis is Accepted"
   ]
  }
 ],
 "metadata": {
  "kernelspec": {
   "display_name": "Python 3 (ipykernel)",
   "language": "python",
   "name": "python3"
  },
  "language_info": {
   "codemirror_mode": {
    "name": "ipython",
    "version": 3
   },
   "file_extension": ".py",
   "mimetype": "text/x-python",
   "name": "python",
   "nbconvert_exporter": "python",
   "pygments_lexer": "ipython3",
   "version": "3.11.5"
  }
 },
 "nbformat": 4,
 "nbformat_minor": 5
}
